{
 "cells": [
  {
   "cell_type": "code",
   "execution_count": 40,
   "id": "ecb911d4",
   "metadata": {},
   "outputs": [
    {
     "name": "stdout",
     "output_type": "stream",
     "text": [
      "2.3.1\n",
      "This is a large query, it may take a moment to complete\n",
      "Skipping offseason dates\n"
     ]
    },
    {
     "name": "stderr",
     "output_type": "stream",
     "text": [
      "100%|██████████| 138/138 [00:07<00:00, 19.65it/s]\n",
      "/sciclone/home/tdfelton/.conda/envs/baseball2/lib/python3.11/site-packages/pybaseball/statcast.py:85: FutureWarning: The behavior of DataFrame concatenation with empty or all-NA entries is deprecated. In a future version, this will no longer exclude empty or all-NA columns when determining the result dtypes. To retain the old behavior, exclude the relevant entries before the concat operation.\n",
      "  final_data = pd.concat(dataframe_list, axis=0).convert_dtypes(convert_string=False)\n"
     ]
    }
   ],
   "source": [
    "\n",
    "import pandas as pd\n",
    "import pybaseball\n",
    "pybaseball.cache.enable()\n",
    "print(pd.__version__)\n",
    "from pybaseball import statcast\n",
    "balldata = statcast(start_dt='2025-01-01',end_dt='2025-07-30')\n",
    "balldata = pd.DataFrame(balldata)\n",
    "from sklearn.model_selection import train_test_split as tts\n",
    "from catboost import CatBoostClassifier\n",
    "import matplotlib.pyplot as plt\n",
    "import numpy as np\n",
    "from sklearn.metrics import confusion_matrix as cm, classification_report as cr\n",
    "from collections import Counter\n",
    "from sklearn.metrics import roc_auc_score"
   ]
  },
  {
   "cell_type": "code",
   "execution_count": 41,
   "id": "958faae7",
   "metadata": {},
   "outputs": [],
   "source": [
    "player = 'James Wood'\n",
    "balldata = balldata[balldata['des'].astype(str).str.contains(f\"{player}\", case=False, na=False)]"
   ]
  },
  {
   "cell_type": "code",
   "execution_count": 42,
   "id": "ba597f09",
   "metadata": {},
   "outputs": [],
   "source": [
    "# STEP 0: Initial filtering (only regular season games)\n",
    "balldata = balldata[balldata['game_type'] == 'R'].copy()\n",
    "\n",
    "# STEP 1: Sort to maintain proper pitch order within at-bats\n",
    "balldata.sort_values(by=['game_pk', 'at_bat_number', 'pitch_number'], inplace=True)\n",
    "balldata.reset_index(drop=True, inplace=True)\n",
    "\n",
    "# STEP 2: Label whether pitch is final pitch of at-bat (Stage 1 target)\n",
    "balldata['stage1_label'] = (\n",
    "    balldata.groupby(['game_pk', 'at_bat_number'])['pitch_number'].transform('max') == balldata['pitch_number']\n",
    ").astype(int)\n",
    "\n",
    "# STEP 3: Add sequencing features (last 3 pitch types, plate_x, spin rate)\n",
    "def add_last_n_features(df, col, n=3):\n",
    "    for i in range(1, n+1):\n",
    "        df[f'{col}_prev{i}'] = df.groupby(['game_pk', 'at_bat_number'])[col].shift(i)\n",
    "    return df\n",
    "\n",
    "balldata = add_last_n_features(balldata, 'pitch_type', 7)\n",
    "balldata = add_last_n_features(balldata, 'plate_x', 7)\n",
    "balldata = add_last_n_features(balldata, 'release_spin_rate', 7)\n",
    "balldata = add_last_n_features(balldata, 'vx0', 7)\n",
    "balldata = add_last_n_features(balldata, 'plate_z', 7)\n",
    "balldata = add_last_n_features(balldata, 'vy0', 7)\n",
    "balldata = add_last_n_features(balldata, 'ax', 7)\n",
    "balldata = add_last_n_features(balldata, 'release_extension', 7)\n",
    "balldata = add_last_n_features(balldata, 'az', 7)\n",
    "balldata = add_last_n_features(balldata, 'release_speed', 7)\n",
    "balldata = add_last_n_features(balldata, 'release_pos_z', 7)\n",
    "balldata = add_last_n_features(balldata, 'api_break_x_arm', 7)\n",
    "balldata = add_last_n_features(balldata, 'effective_speed', 7)\n",
    "balldata = add_last_n_features(balldata, 'release_pos_y', 7)\n",
    "balldata = add_last_n_features(balldata, 'spin_axis', 7)\n",
    "balldata = add_last_n_features(balldata, 'api_break_z_with_gravity', 7)\n",
    "balldata = add_last_n_features(balldata, 'arm_angle', 7)\n",
    "balldata = add_last_n_features(balldata, 'release_pos_x', 7)\n",
    "balldata = add_last_n_features(balldata, 'api_break_x_batter_in', 7)\n",
    "balldata = add_last_n_features(balldata, 'pfx_z', 7)\n",
    "\n",
    "\n",
    "\n",
    "# STEP 4: Extract date parts\n",
    "balldata['game_year'] = pd.to_datetime(balldata['game_date']).dt.year\n",
    "balldata['game_month'] = pd.to_datetime(balldata['game_date']).dt.month\n",
    "balldata['game_day'] = pd.to_datetime(balldata['game_date']).dt.day\n",
    "\n",
    "# STEP 5: Drop unneeded columns\n",
    "cols_to_drop = [\n",
    "    'type', 'player_name', 'des', 'home_team', 'game_year', 'away_team', 'game_type',\n",
    "    'woba_value', 'woba_denom', 'babip_value', 'iso_value', 'launch_speed_angle', 'hyper_speed',\n",
    "    'post_away_score', 'post_home_score', 'post_bat_score', 'post_fld_score', 'bat_win_dif',\n",
    "    'delta_home_win_exp', 'delta_run_exp', 'delta_pitcher_run_exp', 'bat_score', 'fld_score',\n",
    "    'home_score_diff', 'home_win_exp', 'on_3b', 'on_2b', 'on_1b', 'pitch_name', 'home_score', 'away_score', 'description',\n",
    "    'hit_location', 'bb_type', 'hc_x', 'hc_y', 'hit_distance_sc', 'launch_speed', 'launch_angle', 'batter',\n",
    "    'stand', 'game_pk', 'bat_speed', 'swing_length', 'bat_score_diff', 'bat_win_exp', 'attack_angle', 'attack_direction', 'swing_path_tilt',\n",
    "    'age_bat', 'zone', 'intercept_ball_minus_batter_pos_x_inches', 'intercept_ball_minus_batter_pos_y_inches'\n",
    "]"
   ]
  },
  {
   "cell_type": "code",
   "execution_count": 43,
   "id": "35cd0b74",
   "metadata": {},
   "outputs": [],
   "source": [
    "X_stage1 = balldata.drop(columns=['events'], errors='ignore')\n",
    "X_stage1 = X_stage1.drop(columns=[col for col in X_stage1.columns if 'depreciated' in col or 'legacy' in col or 'estimated' in col])\n",
    "X_stage1 = X_stage1.drop(columns=[col for col in cols_to_drop if col in X_stage1.columns])\n",
    "\n",
    "# STEP 6: Set up categorical features for CatBoost\n",
    "categorical_cols = [\n",
    "    'game_month', 'pitch_type', 'pitcher', 'p_throws',\n",
    "    'balls', 'strikes', 'inning', 'fielder_2', 'fielder_3', 'fielder_4', 'fielder_5', 'fielder_6',\n",
    "    'fielder_7', 'fielder_8', 'fielder_9', 'pitch_number', 'at_bat_number',\n",
    "    'if_fielding_alignment', 'of_fielding_alignment', 'age_pit', 'n_thruorder_pitcher',\n",
    "    'n_priorpa_thisgame_player_at_bat', 'pitcher_days_since_prev_game', 'batter_days_since_prev_game',\n",
    "    'pitcher_days_until_next_game', 'batter_days_until_next_game', 'inning_topbot',\n",
    "    'pitch_type_prev1', 'pitch_type_prev2', 'pitch_type_prev3'\n",
    "]\n",
    "pitch_type_prev_cols = [col for col in X_stage1.columns if col.startswith('pitch_type_prev')]\n",
    "categorical_cols = list(set(categorical_cols + pitch_type_prev_cols))\n",
    "\n",
    "X_stage1[categorical_cols] = X_stage1[categorical_cols].astype(str)\n",
    "\n",
    "# STEP 7: Assign target\n",
    "y_stage1 = balldata['stage1_label']\n",
    "X_stage1 = X_stage1.drop(columns='stage1_label')\n",
    "X_stage1[categorical_cols] = X_stage1[categorical_cols].fillna(\"MISSING\")\n",
    "X_stage1.fillna(-999, inplace=True)"
   ]
  },
  {
   "cell_type": "markdown",
   "id": "42d6dc97",
   "metadata": {},
   "source": [
    "The below code is kind of useless unless I'm doing live analysis, did it more so to practice on a more complete dataset before moving to the full batting average predictor"
   ]
  },
  {
   "cell_type": "code",
   "execution_count": 44,
   "id": "d0bcd440",
   "metadata": {},
   "outputs": [
    {
     "name": "stdout",
     "output_type": "stream",
     "text": [
      "Learning rate set to 0.041123\n",
      "0:\tlearn: 0.5794393\ttest: 0.5652842\tbest: 0.5652842 (0)\ttotal: 20.5ms\tremaining: 20.5s\n",
      "100:\tlearn: 0.8878808\ttest: 0.8597169\tbest: 0.8630491 (92)\ttotal: 1.64s\tremaining: 14.6s\n",
      "200:\tlearn: 0.9323017\ttest: 0.8877805\tbest: 0.8927681 (184)\ttotal: 3.27s\tremaining: 13s\n",
      "300:\tlearn: 0.9572539\ttest: 0.8938272\tbest: 0.8993789 (252)\ttotal: 4.91s\tremaining: 11.4s\n",
      "Stopped by overfitting detector  (50 iterations wait)\n",
      "\n",
      "bestTest = 0.899378882\n",
      "bestIteration = 252\n",
      "\n",
      "Shrink model to first 253 iterations.\n",
      "[[465  65]\n",
      " [  8 181]]\n",
      "              precision    recall  f1-score   support\n",
      "\n",
      "           0      0.983     0.877     0.927       530\n",
      "           1      0.736     0.958     0.832       189\n",
      "\n",
      "    accuracy                          0.898       719\n",
      "   macro avg      0.859     0.918     0.880       719\n",
      "weighted avg      0.918     0.898     0.902       719\n",
      "\n"
     ]
    }
   ],
   "source": [
    "x_train1, x_test1, y_train1, y_test1 = tts(X_stage1, y_stage1, test_size=0.2, stratify=y_stage1)\n",
    "\n",
    "#class_counts = Counter(y_train1)\n",
    "#total = sum(class_counts.values())\n",
    "#class_weights = {cls: total/count for cls, count in class_counts.items()}\n",
    "#print(\"Class weights:\", class_weights)\n",
    "\n",
    "model_stage1 = CatBoostClassifier(\n",
    "    verbose=100,\n",
    "    scale_pos_weight=2.0,\n",
    "    eval_metric='F1',\n",
    ")\n",
    "\n",
    "model_stage1.fit(x_train1, y_train1, eval_set = (x_test1, y_test1), early_stopping_rounds = 50, cat_features=categorical_cols)\n",
    "\n",
    "y_pred1 = model_stage1.predict(x_test1)\n",
    "print(cm(y_test1, y_pred1))\n",
    "print(cr(y_test1, y_pred1, digits=3))"
   ]
  },
  {
   "cell_type": "code",
   "execution_count": 45,
   "id": "36d8cb8c",
   "metadata": {},
   "outputs": [],
   "source": [
    "final_pitches = balldata[balldata['stage1_label'] == 1].copy()\n",
    "hit_events = ['single', 'double', 'triple', 'home_run']\n",
    "final_pitches['stage2_label'] = final_pitches['events'].isin(hit_events).astype(int)\n",
    "X_stage2 = final_pitches.drop(columns=['stage2_label', 'events'], errors='ignore')\n",
    "X_stage2 = X_stage2.drop(columns=[col for col in X_stage2.columns if 'depreciated' in col or 'legacy' in col or 'estimated' in col])\n",
    "X_stage2 = X_stage2.drop(columns=[col for col in cols_to_drop if col in X_stage2.columns])\n",
    "\n",
    "X_stage2[categorical_cols] = X_stage2[categorical_cols].astype(str)\n",
    "X_stage2[categorical_cols] = X_stage2[categorical_cols].fillna(\"MISSING\")\n",
    "X_stage2.fillna(-999, inplace=True)\n",
    "\n",
    "y_stage2 = final_pitches['stage2_label']"
   ]
  },
  {
   "cell_type": "code",
   "execution_count": 46,
   "id": "d8d63229",
   "metadata": {},
   "outputs": [
    {
     "name": "stdout",
     "output_type": "stream",
     "text": [
      "Learning rate set to 0.009127\n",
      "0:\tlearn: 0.6975647\ttotal: 16.5ms\tremaining: 16.5s\n",
      "100:\tlearn: 0.7727538\ttotal: 1.47s\tremaining: 13.1s\n",
      "200:\tlearn: 0.7935808\ttotal: 2.95s\tremaining: 11.7s\n",
      "300:\tlearn: 0.8232588\ttotal: 4.43s\tremaining: 10.3s\n",
      "400:\tlearn: 0.8550167\ttotal: 5.88s\tremaining: 8.79s\n",
      "500:\tlearn: 0.8858292\ttotal: 7.36s\tremaining: 7.33s\n",
      "600:\tlearn: 0.9101449\ttotal: 8.82s\tremaining: 5.85s\n",
      "700:\tlearn: 0.9256228\ttotal: 10.3s\tremaining: 4.38s\n",
      "800:\tlearn: 0.9431857\ttotal: 11.8s\tremaining: 2.92s\n",
      "900:\tlearn: 0.9602446\ttotal: 13.2s\tremaining: 1.45s\n",
      "999:\tlearn: 0.9661538\ttotal: 14.7s\tremaining: 0us\n",
      "[[81 37]\n",
      " [31 40]]\n",
      "              precision    recall  f1-score   support\n",
      "\n",
      "           0      0.723     0.686     0.704       118\n",
      "           1      0.519     0.563     0.541        71\n",
      "\n",
      "    accuracy                          0.640       189\n",
      "   macro avg      0.621     0.625     0.622       189\n",
      "weighted avg      0.647     0.640     0.643       189\n",
      "\n"
     ]
    }
   ],
   "source": [
    "x_train2, x_test2, y_train2, y_test2 = tts(X_stage2, y_stage2, test_size=0.2, stratify=y_stage2)\n",
    "\n",
    "model_stage2 = CatBoostClassifier(\n",
    "    verbose=100,\n",
    "    scale_pos_weight=(len(y_train2) - sum(y_train2)) / sum(y_train2),\n",
    "    eval_metric='F1',\n",
    ")\n",
    "\n",
    "model_stage2.fit(x_train2, y_train2, cat_features=categorical_cols)\n",
    "\n",
    "y_pred2 = model_stage2.predict(x_test2)\n",
    "print(cm(y_test2, y_pred2))\n",
    "print(cr(y_test2, y_pred2, digits=3))\n"
   ]
  },
  {
   "cell_type": "code",
   "execution_count": 54,
   "id": "9b288e3c",
   "metadata": {},
   "outputs": [
    {
     "name": "stdout",
     "output_type": "stream",
     "text": [
      "Learning rate set to 0.009127\n",
      "0:\tlearn: 0.6731308\ttotal: 17.9ms\tremaining: 17.9s\n",
      "100:\tlearn: 0.7591356\ttotal: 1.33s\tremaining: 11.8s\n",
      "200:\tlearn: 0.7970053\ttotal: 2.67s\tremaining: 10.6s\n",
      "300:\tlearn: 0.8279477\ttotal: 3.99s\tremaining: 9.26s\n",
      "400:\tlearn: 0.8484385\ttotal: 5.35s\tremaining: 8s\n",
      "500:\tlearn: 0.8713464\ttotal: 6.69s\tremaining: 6.67s\n",
      "600:\tlearn: 0.9037136\ttotal: 8.04s\tremaining: 5.34s\n",
      "700:\tlearn: 0.9166198\ttotal: 9.41s\tremaining: 4.01s\n",
      "800:\tlearn: 0.9325646\ttotal: 10.8s\tremaining: 2.69s\n",
      "900:\tlearn: 0.9516305\ttotal: 12.2s\tremaining: 1.34s\n",
      "999:\tlearn: 0.9653716\ttotal: 13.6s\tremaining: 0us\n",
      "Threshold used: 0.52\n",
      "[[68 50]\n",
      " [28 43]]\n",
      "              precision    recall  f1-score   support\n",
      "\n",
      "           0      0.708     0.576     0.636       118\n",
      "           1      0.462     0.606     0.524        71\n",
      "\n",
      "    accuracy                          0.587       189\n",
      "   macro avg      0.585     0.591     0.580       189\n",
      "weighted avg      0.616     0.587     0.594       189\n",
      "\n",
      "AUC: 0.622\n"
     ]
    }
   ],
   "source": [
    "importances = model_stage2.get_feature_importance()\n",
    "features = X_stage2.columns\n",
    "imp_df = pd.DataFrame({ \"Feature\": features, \"Importance\": importances })\n",
    "\n",
    "# Step 3: Select top N features\n",
    "top_features = imp_df.sort_values(by=\"Importance\", ascending=False)[\"Feature\"].head(50).tolist()\n",
    "cat_top = [col for col in top_features if col in categorical_cols]\n",
    "\n",
    "# Step 4: Subset and retrain with only top features\n",
    "X_top = X_stage2[top_features]\n",
    "x_train2, x_test2, y_train2, y_test2 = tts(X_top, y_stage2, test_size=0.2, stratify=y_stage2)\n",
    "\n",
    "filtered_model = CatBoostClassifier(\n",
    "    verbose=100,\n",
    "    scale_pos_weight=(len(y_train2) - sum(y_train2)) / sum(y_train2),\n",
    "    eval_metric='F1',\n",
    "    early_stopping_rounds=50\n",
    ")\n",
    "filtered_model.fit(x_train2, y_train2, cat_features=cat_top)\n",
    "\n",
    "# Step 5: Evaluate\n",
    "from sklearn.metrics import roc_auc_score\n",
    "\n",
    "# Get predicted probabilities for class 1\n",
    "y_probs2 = filtered_model.predict_proba(x_test2)[:, 1]\n",
    "\n",
    "# Apply confidence threshold (tune this value!)\n",
    "threshold = 0.52\n",
    "y_pred2 = (y_probs2 > threshold).astype(int)\n",
    "\n",
    "# Evaluate\n",
    "print(f\"Threshold used: {threshold}\")\n",
    "print(cm(y_test2, y_pred2))\n",
    "print(cr(y_test2, y_pred2, digits=3))\n",
    "\n",
    "# Optional: AUC (overall classifier quality)\n",
    "auc = roc_auc_score(y_test2, y_probs2)\n",
    "print(f\"AUC: {auc:.3f}\")"
   ]
  },
  {
   "cell_type": "code",
   "execution_count": 55,
   "id": "5bd62c7f",
   "metadata": {},
   "outputs": [
    {
     "data": {
      "image/png": "[encoded data removed]",
      "text/plain": [
       "<Figure size 640x480 with 1 Axes>"
      ]
     },
     "metadata": {},
     "output_type": "display_data"
    }
   ],
   "source": [
    "from sklearn.metrics import precision_recall_curve\n",
    "import matplotlib.pyplot as plt\n",
    "\n",
    "precisions, recalls, thresholds = precision_recall_curve(y_test2, y_probs2)\n",
    "\n",
    "plt.plot(thresholds, precisions[:-1], label=\"Precision\")\n",
    "plt.plot(thresholds, recalls[:-1], label=\"Recall\")\n",
    "plt.xlabel(\"Threshold\")\n",
    "plt.ylabel(\"Score\")\n",
    "plt.title(\"Precision and Recall vs Threshold\")\n",
    "plt.legend()\n",
    "plt.grid(True)\n",
    "plt.show()"
   ]
  },
  {
   "cell_type": "code",
   "execution_count": 56,
   "id": "54e6f352",
   "metadata": {},
   "outputs": [
    {
     "data": {
      "image/png": "[encoded data removed]",
      "text/plain": [
       "<Figure size 640x480 with 1 Axes>"
      ]
     },
     "metadata": {},
     "output_type": "display_data"
    }
   ],
   "source": [
    "from sklearn.metrics import f1_score\n",
    "\n",
    "f1s = [f1_score(y_test2, y_probs2 >= t) for t in thresholds[:-1]]\n",
    "\n",
    "plt.plot(thresholds[:-1], f1s, label=\"F1 Score\")\n",
    "plt.xlabel(\"Threshold\")\n",
    "plt.ylabel(\"F1\")\n",
    "plt.title(\"F1 Score vs Threshold\")\n",
    "plt.grid(True)\n",
    "plt.legend()\n",
    "plt.show()\n"
   ]
  },
  {
   "cell_type": "markdown",
   "id": "60d4cd25",
   "metadata": {},
   "source": [
    "From these 2 plots, I've determined that the best threshold for maximizing precision/recall and F1 score is 0.5\n",
    "This is specifically for Garcia"
   ]
  },
  {
   "cell_type": "code",
   "execution_count": 58,
   "id": "c8b12187",
   "metadata": {},
   "outputs": [
    {
     "name": "stdout",
     "output_type": "stream",
     "text": [
      "Mean F1 across folds: 0.543154630845007\n"
     ]
    }
   ],
   "source": [
    "from sklearn.model_selection import StratifiedKFold\n",
    "skf = StratifiedKFold(n_splits=5, shuffle=True, random_state=42)\n",
    "f1s = []\n",
    "\n",
    "for train_idx, test_idx in skf.split(x_train2, y_train2):\n",
    "    X_train, X_test = x_train2.iloc[train_idx], x_train2.iloc[test_idx]\n",
    "    y_train, y_test = y_train2.iloc[train_idx], y_train2.iloc[test_idx]\n",
    "\n",
    "    model = CatBoostClassifier(\n",
    "        verbose=0,\n",
    "        scale_pos_weight=(len(y_train) - sum(y_train)) / sum(y_train),\n",
    "        eval_metric='F1',\n",
    "        early_stopping_rounds=50\n",
    "    )\n",
    "    \n",
    "    model.fit(X_train, y_train, cat_features=cat_top)\n",
    "\n",
    "    y_prob = model.predict_proba(X_test)[:, 1]\n",
    "    y_pred = (y_prob >= 0.52).astype(int)\n",
    "\n",
    "    f1s.append(f1_score(y_test, y_pred))\n",
    "\n",
    "print(\"Mean F1 across folds:\", np.mean(f1s))\n"
   ]
  },
  {
   "cell_type": "code",
   "execution_count": null,
   "id": "eb955781",
   "metadata": {},
   "outputs": [],
   "source": [
    "from itertools import product\n",
    "from joblib import Parallel, delayed\n",
    "from tqdm import tqdm\n",
    "\n",
    "# --------------------------\n",
    "# Inputs\n",
    "# --------------------------\n",
    "X = X_stage2.copy()\n",
    "y = y_stage2.copy()\n",
    "X[categorical_cols] = X[categorical_cols].astype(str)\n",
    "\n",
    "# Get feature importances\n",
    "base_model = CatBoostClassifier(verbose=0)\n",
    "base_model.fit(X, y, cat_features=categorical_cols)\n",
    "importances = base_model.get_feature_importance()\n",
    "features = X.columns\n",
    "imp_df = pd.DataFrame({ \"Feature\": features, \"Importance\": importances })\n",
    "\n",
    "# --------------------------\n",
    "# Grid Parameters (linspace)\n",
    "# --------------------------\n",
    "top_N_list = np.linspace(10, 150, num=25, dtype=int)\n",
    "scale_pos_weights = np.linspace(1.0, 10.0, num=15)\n",
    "early_stops = np.linspace(10, 200, num=10, dtype=int)\n",
    "thresholds = np.linspace(0.4, 0.6, num=25)\n",
    "\n",
    "param_grid = list(product(top_N_list, scale_pos_weights, early_stops, thresholds))\n",
    "skf = StratifiedKFold(n_splits=5, shuffle=True, random_state=42)\n",
    "\n",
    "# --------------------------\n",
    "# Parallel Evaluation Function\n",
    "# --------------------------\n",
    "def evaluate_combo(top_N, scale_wt, esr, thresh):\n",
    "    top_features = imp_df.sort_values(by=\"Importance\", ascending=False)[\"Feature\"].head(top_N).tolist()\n",
    "    cat_top = [col for col in top_features if col in categorical_cols]\n",
    "    X_subset = X[top_features]\n",
    "\n",
    "    fold_f1s = []\n",
    "\n",
    "    for train_idx, test_idx in skf.split(X_subset, y):\n",
    "        X_train, X_test = X_subset.iloc[train_idx], X_subset.iloc[test_idx]\n",
    "        y_train, y_test = y.iloc[train_idx], y.iloc[test_idx]\n",
    "\n",
    "        model = CatBoostClassifier(\n",
    "            verbose=0,\n",
    "            scale_pos_weight=scale_wt,\n",
    "            eval_metric='F1',\n",
    "            early_stopping_rounds=esr\n",
    "        )\n",
    "        model.fit(X_train, y_train, cat_features=cat_top)\n",
    "\n",
    "        y_prob = model.predict_proba(X_test)[:, 1]\n",
    "        y_pred = (y_prob > thresh).astype(int)\n",
    "        f1 = f1_score(y_test, y_pred)\n",
    "        fold_f1s.append(f1)\n",
    "\n",
    "    return {\n",
    "        'top_N': top_N,\n",
    "        'scale_pos_weight': scale_wt,\n",
    "        'early_stopping_rounds': esr,\n",
    "        'threshold': thresh,\n",
    "        'mean_f1': np.mean(fold_f1s)\n",
    "    }\n",
    "\n",
    "# --------------------------\n",
    "# Run in Parallel\n",
    "# --------------------------\n",
    "results = Parallel(n_jobs=-1)(\n",
    "    delayed(evaluate_combo)(top_N, scale_wt, esr, thresh)\n",
    "    for (top_N, scale_wt, esr, thresh) in tqdm(param_grid)\n",
    ")\n",
    "\n",
    "# --------------------------\n",
    "# Results Summary\n",
    "# --------------------------\n",
    "results_df = pd.DataFrame(results)\n",
    "results_df = results_df.sort_values(by='mean_f1', ascending=False)\n",
    "print(results_df.head(10))"
   ]
  },
  {
   "cell_type": "code",
   "execution_count": 59,
   "id": "ebee17e1",
   "metadata": {},
   "outputs": [],
   "source": [
    "X_stage2.to_pickle(\"X_stage2.pkl\")\n",
    "y_stage2.to_pickle(\"y_stage2.pkl\")\n",
    "imp_df.to_pickle(\"feature_importances.pkl\")\n",
    "with open(\"categorical_cols.pkl\", \"wb\") as f:\n",
    "    import pickle\n",
    "    pickle.dump(categorical_cols, f)"
   ]
  },
  {
   "cell_type": "code",
   "execution_count": null,
   "id": "0c81d824",
   "metadata": {},
   "outputs": [],
   "source": []
  }
 ],
 "metadata": {
  "kernelspec": {
   "display_name": "baseball2",
   "language": "python",
   "name": "python3"
  },
  "language_info": {
   "codemirror_mode": {
    "name": "ipython",
    "version": 3
   },
   "file_extension": ".py",
   "mimetype": "text/x-python",
   "name": "python",
   "nbconvert_exporter": "python",
   "pygments_lexer": "ipython3",
   "version": "3.11.13"
  }
 },
 "nbformat": 4,
 "nbformat_minor": 5
}
